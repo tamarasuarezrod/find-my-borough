{
 "cells": [
  {
   "cell_type": "code",
   "execution_count": 3,
   "id": "d819bf92-1c13-425e-8180-bd269aad02e5",
   "metadata": {},
   "outputs": [
    {
     "name": "stdout",
     "output_type": "stream",
     "text": [
      "synthetic_training_data.csv generated (with norm_centrality)\n"
     ]
    }
   ],
   "source": [
    "import pandas as pd\n",
    "import numpy as np\n",
    "\n",
    "# Load borough features (including norm_centrality)\n",
    "df_boroughs = pd.read_csv(\"../data/clean/borough_features.csv\")\n",
    "\n",
    "# Updated user profiles with all weights\n",
    "user_profiles = [\n",
    "    {\"user_id\": 1, \"budget_weight\": 1.0, \"safety_weight\": 0.0, \"youth_weight\": 0.0, \"centrality_weight\": 0.0},\n",
    "    {\"user_id\": 2, \"budget_weight\": 0.0, \"safety_weight\": 1.0, \"youth_weight\": 0.0, \"centrality_weight\": 0.0},\n",
    "    {\"user_id\": 3, \"budget_weight\": 0.5, \"safety_weight\": 0.5, \"youth_weight\": 0.0, \"centrality_weight\": 0.0},\n",
    "    {\"user_id\": 4, \"budget_weight\": 0.4, \"safety_weight\": 0.2, \"youth_weight\": 0.4, \"centrality_weight\": 0.0},\n",
    "    {\"user_id\": 5, \"budget_weight\": 0.3, \"safety_weight\": 0.4, \"youth_weight\": 0.3, \"centrality_weight\": 0.0},\n",
    "    {\"user_id\": 6, \"budget_weight\": 0.1, \"safety_weight\": 0.3, \"youth_weight\": 0.6, \"centrality_weight\": 0.0},\n",
    "    {\"user_id\": 7, \"budget_weight\": 0.6, \"safety_weight\": 0.2, \"youth_weight\": 0.2, \"centrality_weight\": 0.0},\n",
    "    {\"user_id\": 8, \"budget_weight\": 0.3, \"safety_weight\": 0.3, \"youth_weight\": 0.3, \"centrality_weight\": 0.1},\n",
    "]\n",
    "\n",
    "training_data = []\n",
    "\n",
    "for profile in user_profiles:\n",
    "    uid = profile[\"user_id\"]\n",
    "    b_weight = profile[\"budget_weight\"]\n",
    "    s_weight = profile[\"safety_weight\"]\n",
    "    y_weight = profile[\"youth_weight\"]\n",
    "    c_weight = profile[\"centrality_weight\"]\n",
    "\n",
    "    borough_scores = []\n",
    "\n",
    "    for _, row in df_boroughs.iterrows():\n",
    "        score = (\n",
    "            b_weight * row[\"norm_rent\"] +\n",
    "            s_weight * row[\"norm_safety\"] +\n",
    "            y_weight * row[\"norm_youth\"] +\n",
    "            c_weight * row[\"norm_centrality\"]\n",
    "        )\n",
    "\n",
    "        borough_scores.append((\n",
    "            row[\"borough\"],\n",
    "            row[\"norm_rent\"],\n",
    "            row[\"norm_safety\"],\n",
    "            row[\"norm_youth\"],\n",
    "            row[\"norm_centrality\"],\n",
    "            score\n",
    "        ))\n",
    "\n",
    "    borough_scores.sort(key=lambda x: x[5], reverse=True)\n",
    "    top = borough_scores[:5]\n",
    "    middle = borough_scores[5:20]\n",
    "    bottom = borough_scores[-10:]\n",
    "\n",
    "    for borough, rent, safety, youth, centrality, _ in top:\n",
    "        training_data.append([uid, b_weight, s_weight, y_weight, c_weight, rent, safety, youth, centrality, borough, 1.0])\n",
    "    for borough, rent, safety, youth, centrality, _ in middle:\n",
    "        training_data.append([uid, b_weight, s_weight, y_weight, c_weight, rent, safety, youth, centrality, borough, 0.5])\n",
    "    for borough, rent, safety, youth, centrality, _ in bottom:\n",
    "        training_data.append([uid, b_weight, s_weight, y_weight, c_weight, rent, safety, youth, centrality, borough, 0.0])\n",
    "\n",
    "# Create DataFrame and save\n",
    "df_synth = pd.DataFrame(training_data, columns=[\n",
    "    \"user_id\", \"budget_weight\", \"safety_weight\", \"youth_weight\", \"centrality_weight\",\n",
    "    \"norm_rent\", \"norm_safety\", \"norm_youth\", \"norm_centrality\", \"borough\", \"score\"\n",
    "])\n",
    "\n",
    "df_synth.to_csv(\"../data/clean/synthetic_training_data.csv\", index=False)\n",
    "print(\"synthetic_training_data.csv generated\")\n"
   ]
  },
  {
   "cell_type": "code",
   "execution_count": null,
   "id": "df0c955f-240e-4a10-acc7-96649f3a0858",
   "metadata": {},
   "outputs": [],
   "source": []
  }
 ],
 "metadata": {
  "kernelspec": {
   "display_name": "Python 3 (ipykernel)",
   "language": "python",
   "name": "python3"
  },
  "language_info": {
   "codemirror_mode": {
    "name": "ipython",
    "version": 3
   },
   "file_extension": ".py",
   "mimetype": "text/x-python",
   "name": "python",
   "nbconvert_exporter": "python",
   "pygments_lexer": "ipython3",
   "version": "3.10.12"
  }
 },
 "nbformat": 4,
 "nbformat_minor": 5
}
