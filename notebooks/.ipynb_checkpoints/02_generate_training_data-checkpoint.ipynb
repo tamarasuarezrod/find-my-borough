{
 "cells": [
  {
   "cell_type": "code",
   "execution_count": 1,
   "id": "883e1422-8915-442b-aae3-1efc6ba59728",
   "metadata": {},
   "outputs": [],
   "source": [
    "import pandas as pd\n",
    "\n",
    "df = pd.read_csv(\"../data/clean/borough_features.csv\")\n",
    "\n",
    "simulated_users = [\n",
    "    {\"user_id\": 1, \"budget_weight\": 0.9, \"safety_weight\": 0.1},\n",
    "    {\"user_id\": 2, \"budget_weight\": 0.7, \"safety_weight\": 0.3},\n",
    "    {\"user_id\": 3, \"budget_weight\": 0.5, \"safety_weight\": 0.5},\n",
    "    {\"user_id\": 4, \"budget_weight\": 0.3, \"safety_weight\": 0.7},\n",
    "    {\"user_id\": 5, \"budget_weight\": 0.1, \"safety_weight\": 0.9},\n",
    "    {\"user_id\": 6, \"budget_weight\": 0.6, \"safety_weight\": 0.4},\n",
    "    {\"user_id\": 7, \"budget_weight\": 0.4, \"safety_weight\": 0.6},\n",
    "    {\"user_id\": 8, \"budget_weight\": 0.2, \"safety_weight\": 0.8},\n",
    "    {\"user_id\": 9, \"budget_weight\": 1.0, \"safety_weight\": 0.0},\n",
    "    {\"user_id\": 10, \"budget_weight\": 0.0, \"safety_weight\": 1.0},\n",
    "]"
   ]
  },
  {
   "cell_type": "code",
   "execution_count": 4,
   "id": "d549545a-f3a4-48e3-b174-6fddfc87e965",
   "metadata": {},
   "outputs": [
    {
     "data": {
      "text/html": [
       "<div>\n",
       "<style scoped>\n",
       "    .dataframe tbody tr th:only-of-type {\n",
       "        vertical-align: middle;\n",
       "    }\n",
       "\n",
       "    .dataframe tbody tr th {\n",
       "        vertical-align: top;\n",
       "    }\n",
       "\n",
       "    .dataframe thead th {\n",
       "        text-align: right;\n",
       "    }\n",
       "</style>\n",
       "<table border=\"1\" class=\"dataframe\">\n",
       "  <thead>\n",
       "    <tr style=\"text-align: right;\">\n",
       "      <th></th>\n",
       "      <th>user_id</th>\n",
       "      <th>budget_weight</th>\n",
       "      <th>safety_weight</th>\n",
       "      <th>norm_rent</th>\n",
       "      <th>norm_safety</th>\n",
       "      <th>borough</th>\n",
       "      <th>score</th>\n",
       "    </tr>\n",
       "  </thead>\n",
       "  <tbody>\n",
       "    <tr>\n",
       "      <th>0</th>\n",
       "      <td>1</td>\n",
       "      <td>0.9</td>\n",
       "      <td>0.1</td>\n",
       "      <td>0.964561</td>\n",
       "      <td>0.844750</td>\n",
       "      <td>barking and dagenham</td>\n",
       "      <td>0.952580</td>\n",
       "    </tr>\n",
       "    <tr>\n",
       "      <th>1</th>\n",
       "      <td>1</td>\n",
       "      <td>0.9</td>\n",
       "      <td>0.1</td>\n",
       "      <td>0.709474</td>\n",
       "      <td>0.750410</td>\n",
       "      <td>barnet</td>\n",
       "      <td>0.713567</td>\n",
       "    </tr>\n",
       "    <tr>\n",
       "      <th>2</th>\n",
       "      <td>1</td>\n",
       "      <td>0.9</td>\n",
       "      <td>0.1</td>\n",
       "      <td>1.000000</td>\n",
       "      <td>0.926358</td>\n",
       "      <td>bexley</td>\n",
       "      <td>0.992636</td>\n",
       "    </tr>\n",
       "    <tr>\n",
       "      <th>3</th>\n",
       "      <td>1</td>\n",
       "      <td>0.9</td>\n",
       "      <td>0.1</td>\n",
       "      <td>0.674386</td>\n",
       "      <td>0.718257</td>\n",
       "      <td>brent</td>\n",
       "      <td>0.678773</td>\n",
       "    </tr>\n",
       "    <tr>\n",
       "      <th>4</th>\n",
       "      <td>1</td>\n",
       "      <td>0.9</td>\n",
       "      <td>0.1</td>\n",
       "      <td>0.877193</td>\n",
       "      <td>0.829766</td>\n",
       "      <td>bromley</td>\n",
       "      <td>0.872450</td>\n",
       "    </tr>\n",
       "  </tbody>\n",
       "</table>\n",
       "</div>"
      ],
      "text/plain": [
       "   user_id  budget_weight  safety_weight  norm_rent  norm_safety  \\\n",
       "0        1            0.9            0.1   0.964561     0.844750   \n",
       "1        1            0.9            0.1   0.709474     0.750410   \n",
       "2        1            0.9            0.1   1.000000     0.926358   \n",
       "3        1            0.9            0.1   0.674386     0.718257   \n",
       "4        1            0.9            0.1   0.877193     0.829766   \n",
       "\n",
       "                borough     score  \n",
       "0  barking and dagenham  0.952580  \n",
       "1                barnet  0.713567  \n",
       "2                bexley  0.992636  \n",
       "3                 brent  0.678773  \n",
       "4               bromley  0.872450  "
      ]
     },
     "execution_count": 4,
     "metadata": {},
     "output_type": "execute_result"
    }
   ],
   "source": [
    "# Create training data combining each user with each borough\n",
    "training_data = []\n",
    "\n",
    "for user in simulated_users:\n",
    "    for _, row in df.iterrows():\n",
    "        # Score = weighted combination of normalized rent and safety\n",
    "        score = (\n",
    "            row['norm_rent'] * user['budget_weight'] +\n",
    "            row['norm_safety'] * user['safety_weight']\n",
    "        )\n",
    "        training_data.append({\n",
    "            \"user_id\": user[\"user_id\"],\n",
    "            \"budget_weight\": user[\"budget_weight\"],\n",
    "            \"safety_weight\": user[\"safety_weight\"],\n",
    "            \"norm_rent\": row[\"norm_rent\"],\n",
    "            \"norm_safety\": row[\"norm_safety\"],\n",
    "            \"borough\": row[\"borough\"],\n",
    "            \"score\": score\n",
    "        })\n",
    "\n",
    "df_train = pd.DataFrame(training_data)\n",
    "df_train.head()\n"
   ]
  },
  {
   "cell_type": "code",
   "execution_count": 3,
   "id": "f28c6e1f-6ff3-4abc-9a4b-ffea913b954f",
   "metadata": {},
   "outputs": [
    {
     "name": "stdout",
     "output_type": "stream",
     "text": [
      "Saved synthetic training data to data/clean/synthetic_training_data.csv\n"
     ]
    }
   ],
   "source": [
    "df_train.to_csv(\"../data/clean/synthetic_training_data.csv\", index=False)\n",
    "print(\"Saved synthetic training data to data/clean/synthetic_training_data.csv\")"
   ]
  }
 ],
 "metadata": {
  "kernelspec": {
   "display_name": "Python 3 (ipykernel)",
   "language": "python",
   "name": "python3"
  },
  "language_info": {
   "codemirror_mode": {
    "name": "ipython",
    "version": 3
   },
   "file_extension": ".py",
   "mimetype": "text/x-python",
   "name": "python",
   "nbconvert_exporter": "python",
   "pygments_lexer": "ipython3",
   "version": "3.10.12"
  }
 },
 "nbformat": 4,
 "nbformat_minor": 5
}
