{
 "cells": [
  {
   "cell_type": "code",
   "execution_count": 1,
   "id": "5a0079ea-3927-4b2e-b7a6-8003df3ffd4f",
   "metadata": {},
   "outputs": [],
   "source": [
    "import torch\n",
    "import torch.nn as nn\n",
    "from torch.utils.data import Dataset, DataLoader\n",
    "import pandas as pd\n",
    "import numpy as np\n",
    "\n",
    "df_train = pd.read_csv(\"../data/clean/synthetic_training_data.csv\")\n",
    "\n",
    "# Select input features and target\n",
    "features = df_train[[\n",
    "    \"budget_weight\", \"safety_weight\", \"youth_weight\", \"centrality_weight\",\n",
    "    \"norm_rent\", \"norm_safety\", \"norm_youth\", \"norm_centrality\"\n",
    "]].values.astype(np.float32)\n",
    "targets = df_train[\"score\"].values.astype(np.float32).reshape(-1, 1)\n"
   ]
  },
  {
   "cell_type": "code",
   "execution_count": 2,
   "id": "02980f29-7c08-4b50-8846-66361f02237d",
   "metadata": {},
   "outputs": [],
   "source": [
    "class ScoreDataset(Dataset):\n",
    "    def __init__(self, X, y):\n",
    "        self.X = torch.tensor(X)\n",
    "        self.y = torch.tensor(y)\n",
    "\n",
    "    def __len__(self):\n",
    "        return len(self.X)\n",
    "\n",
    "    def __getitem__(self, idx):\n",
    "        return self.X[idx], self.y[idx]\n",
    "\n",
    "dataset = ScoreDataset(features, targets)\n",
    "loader = DataLoader(dataset, batch_size=16, shuffle=True)\n"
   ]
  },
  {
   "cell_type": "code",
   "execution_count": 3,
   "id": "07ebc6c6-ad08-4b39-b507-beb8b20ca996",
   "metadata": {},
   "outputs": [],
   "source": [
    "class ScoreModel(nn.Module):\n",
    "    def __init__(self):\n",
    "        super().__init__()\n",
    "        self.net = nn.Sequential(\n",
    "            nn.Linear(8, 16),\n",
    "            nn.ReLU(),\n",
    "            nn.Linear(16, 8),\n",
    "            nn.ReLU(),\n",
    "            nn.Linear(8, 1)\n",
    "        )\n",
    "\n",
    "    def forward(self, x):\n",
    "        return self.net(x)\n",
    "\n",
    "model = ScoreModel()\n"
   ]
  },
  {
   "cell_type": "code",
   "execution_count": 4,
   "id": "df3637bd-ce1a-45fa-924b-be13f950f044",
   "metadata": {},
   "outputs": [
    {
     "name": "stdout",
     "output_type": "stream",
     "text": [
      "Epoch 0, Loss: 1.9101\n",
      "Epoch 20, Loss: 0.6950\n",
      "Epoch 40, Loss: 0.5161\n",
      "Epoch 60, Loss: 0.3452\n",
      "Epoch 80, Loss: 0.2926\n",
      "Epoch 100, Loss: 0.2962\n",
      "Epoch 120, Loss: 0.2618\n",
      "Epoch 140, Loss: 0.3114\n",
      "Epoch 160, Loss: 0.2644\n",
      "Epoch 180, Loss: 0.2469\n"
     ]
    }
   ],
   "source": [
    "optimizer = torch.optim.Adam(model.parameters(), lr=0.01)\n",
    "loss_fn = nn.MSELoss()\n",
    "\n",
    "for epoch in range(200):\n",
    "    total_loss = 0\n",
    "    for X_batch, y_batch in loader:\n",
    "        pred = model(X_batch)\n",
    "        loss = loss_fn(pred, y_batch)\n",
    "        optimizer.zero_grad()\n",
    "        loss.backward()\n",
    "        optimizer.step()\n",
    "        total_loss += loss.item()\n",
    "\n",
    "    if epoch % 20 == 0:\n",
    "        print(f\"Epoch {epoch}, Loss: {total_loss:.4f}\")\n"
   ]
  },
  {
   "cell_type": "code",
   "execution_count": 5,
   "id": "3b37b7bf-440a-4e3b-88bc-12da5222274c",
   "metadata": {},
   "outputs": [
    {
     "name": "stdout",
     "output_type": "stream",
     "text": [
      "Model saved to ../models/score_model.pth\n"
     ]
    }
   ],
   "source": [
    "torch.save(model.state_dict(), \"../models/score_model.pth\")\n",
    "print(\"Model saved to ../models/score_model.pth\")"
   ]
  }
 ],
 "metadata": {
  "kernelspec": {
   "display_name": "Python (bayes_opt_env)",
   "language": "python",
   "name": "bayes_opt_env"
  },
  "language_info": {
   "codemirror_mode": {
    "name": "ipython",
    "version": 3
   },
   "file_extension": ".py",
   "mimetype": "text/x-python",
   "name": "python",
   "nbconvert_exporter": "python",
   "pygments_lexer": "ipython3",
   "version": "3.9.21"
  }
 },
 "nbformat": 4,
 "nbformat_minor": 5
}
