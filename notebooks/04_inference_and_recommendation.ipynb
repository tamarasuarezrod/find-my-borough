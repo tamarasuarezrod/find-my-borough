{
 "cells": [
  {
   "cell_type": "code",
   "execution_count": 1,
   "id": "94617348-4790-4260-80e3-a4a39e4a6c20",
   "metadata": {},
   "outputs": [
    {
     "data": {
      "text/plain": [
       "ScoreModel(\n",
       "  (net): Sequential(\n",
       "    (0): Linear(in_features=8, out_features=16, bias=True)\n",
       "    (1): ReLU()\n",
       "    (2): Linear(in_features=16, out_features=8, bias=True)\n",
       "    (3): ReLU()\n",
       "    (4): Linear(in_features=8, out_features=1, bias=True)\n",
       "  )\n",
       ")"
      ]
     },
     "execution_count": 1,
     "metadata": {},
     "output_type": "execute_result"
    }
   ],
   "source": [
    "import torch\n",
    "import torch.nn as nn\n",
    "import pandas as pd\n",
    "\n",
    "class ScoreModel(nn.Module):\n",
    "    def __init__(self):\n",
    "        super().__init__()\n",
    "        self.net = nn.Sequential(\n",
    "            nn.Linear(8, 16),\n",
    "            nn.ReLU(),\n",
    "            nn.Linear(16, 8),\n",
    "            nn.ReLU(),\n",
    "            nn.Linear(8, 1)\n",
    "        )\n",
    "\n",
    "    def forward(self, x):\n",
    "        return self.net(x)\n",
    "\n",
    "# Instantiate and load weights\n",
    "model = ScoreModel()\n",
    "model.load_state_dict(torch.load(\"../models/score_model.pth\", weights_only=True))\n",
    "model.eval()"
   ]
  },
  {
   "cell_type": "code",
   "execution_count": 2,
   "id": "be92fc6f-9ff9-4420-8d3b-50b69f0842dd",
   "metadata": {},
   "outputs": [],
   "source": [
    "def predict_score(budget_weight, safety_weight, youth_weight, centrality_weight,\n",
    "                  norm_rent, norm_safety, norm_youth, norm_centrality):\n",
    "    with torch.no_grad():\n",
    "        x = torch.tensor([[budget_weight, safety_weight, youth_weight, centrality_weight,\n",
    "                           norm_rent, norm_safety, norm_youth, norm_centrality]], dtype=torch.float32)\n",
    "        return model(x).item()\n"
   ]
  },
  {
   "cell_type": "code",
   "execution_count": 3,
   "id": "910df8c5-8f46-4bf2-ae11-baa0e2b71dad",
   "metadata": {},
   "outputs": [],
   "source": [
    "import pandas as pd\n",
    "\n",
    "df = pd.read_csv(\"../data/clean/borough_features.csv\")\n",
    "\n",
    "def recommend_top_n_boroughs(budget_weight, safety_weight, youth_weight, centrality_weight, top_n=5):\n",
    "    recommendations = []\n",
    "\n",
    "    for _, row in df.iterrows():\n",
    "        borough = row[\"borough\"]\n",
    "        norm_rent = row[\"norm_rent\"]\n",
    "        norm_safety = row[\"norm_safety\"]\n",
    "        norm_youth = row[\"norm_youth\"]\n",
    "        norm_centrality = row[\"norm_centrality\"]\n",
    "\n",
    "        score = predict_score(\n",
    "            budget_weight, safety_weight, youth_weight, centrality_weight,\n",
    "            norm_rent, norm_safety, norm_youth, norm_centrality\n",
    "        )\n",
    "\n",
    "        recommendations.append({\n",
    "            \"borough\": borough,\n",
    "            \"norm_rent\": norm_rent,\n",
    "            \"norm_safety\": norm_safety,\n",
    "            \"norm_youth\": norm_youth,\n",
    "            \"norm_centrality\": norm_centrality,\n",
    "            \"score\": score\n",
    "        })\n",
    "\n",
    "    recommendations.sort(key=lambda x: x[\"score\"], reverse=True)\n",
    "    return recommendations[:top_n]\n"
   ]
  },
  {
   "cell_type": "code",
   "execution_count": 4,
   "id": "142643a9-49b1-43c7-b5f1-c3320f312c55",
   "metadata": {},
   "outputs": [
    {
     "name": "stdout",
     "output_type": "stream",
     "text": [
      "\n",
      "Top boroughs for Budget-focused:\n",
      "barking and dagenham      | score=0.9240 | rent=0.96 | safety=0.84 | youth=0.26 | centrality=0.00\n",
      "redbridge                 | score=0.8751 | rent=0.94 | safety=0.81 | youth=0.25 | centrality=0.00\n",
      "havering                  | score=0.8619 | rent=0.99 | safety=0.87 | youth=0.17 | centrality=0.00\n",
      "bexley                    | score=0.8580 | rent=1.00 | safety=0.93 | youth=0.13 | centrality=0.00\n",
      "croydon                   | score=0.8139 | rent=0.95 | safety=0.65 | youth=0.23 | centrality=0.00\n",
      "\n",
      "Top boroughs for Safety-focused:\n",
      "kingston upon thames      | score=1.0646 | rent=0.74 | safety=0.99 | youth=0.22 | centrality=0.00\n",
      "richmond upon thames      | score=1.0494 | rent=0.56 | safety=1.00 | youth=0.00 | centrality=0.00\n",
      "merton                    | score=1.0349 | rent=0.68 | safety=0.96 | youth=0.30 | centrality=0.00\n",
      "sutton                    | score=0.9130 | rent=0.94 | safety=0.97 | youth=0.10 | centrality=0.00\n",
      "harrow                    | score=0.9084 | rent=0.77 | safety=0.93 | youth=0.23 | centrality=0.00\n",
      "\n",
      "Top boroughs for Urban enthusiast:\n",
      "hammersmith and fulham    | score=1.0841 | rent=0.51 | safety=0.86 | youth=0.77 | centrality=0.67\n",
      "wandsworth                | score=1.0416 | rent=0.54 | safety=0.81 | youth=0.81 | centrality=0.67\n",
      "islington                 | score=0.9672 | rent=0.47 | safety=0.76 | youth=0.85 | centrality=0.67\n",
      "tower hamlets             | score=0.9260 | rent=0.54 | safety=0.65 | youth=1.00 | centrality=0.67\n",
      "merton                    | score=0.8122 | rent=0.68 | safety=0.96 | youth=0.30 | centrality=0.00\n",
      "\n",
      "Top boroughs for Balanced:\n",
      "tower hamlets             | score=1.0439 | rent=0.54 | safety=0.65 | youth=1.00 | centrality=0.67\n",
      "hammersmith and fulham    | score=1.0388 | rent=0.51 | safety=0.86 | youth=0.77 | centrality=0.67\n",
      "wandsworth                | score=1.0350 | rent=0.54 | safety=0.81 | youth=0.81 | centrality=0.67\n",
      "islington                 | score=0.9914 | rent=0.47 | safety=0.76 | youth=0.85 | centrality=0.67\n",
      "lambeth                   | score=0.8960 | rent=0.62 | safety=0.67 | youth=0.84 | centrality=0.67\n",
      "\n",
      "Top boroughs for Luxury young urban:\n",
      "hammersmith and fulham    | score=0.9404 | rent=0.51 | safety=0.86 | youth=0.77 | centrality=0.67\n",
      "wandsworth                | score=0.9121 | rent=0.54 | safety=0.81 | youth=0.81 | centrality=0.67\n",
      "tower hamlets             | score=0.9086 | rent=0.54 | safety=0.65 | youth=1.00 | centrality=0.67\n",
      "islington                 | score=0.8949 | rent=0.47 | safety=0.76 | youth=0.85 | centrality=0.67\n",
      "lambeth                   | score=0.7733 | rent=0.62 | safety=0.67 | youth=0.84 | centrality=0.67\n"
     ]
    }
   ],
   "source": [
    "# Test different user profiles\n",
    "test_profiles = [\n",
    "    {\"label\": \"Budget-focused\", \"budget_weight\": 1.0, \"safety_weight\": 0.0, \"youth_weight\": 0.0, \"centrality_weight\": 0.0},\n",
    "    {\"label\": \"Safety-focused\", \"budget_weight\": 0.0, \"safety_weight\": 1.0, \"youth_weight\": 0.0, \"centrality_weight\": 0.0},\n",
    "    {\"label\": \"Urban enthusiast\", \"budget_weight\": 0.0, \"safety_weight\": 0.0, \"youth_weight\": 0.0, \"centrality_weight\": 1.0},\n",
    "    {\"label\": \"Balanced\", \"budget_weight\": 0.3, \"safety_weight\": 0.3, \"youth_weight\": 0.2, \"centrality_weight\": 0.2},\n",
    "    {\"label\": \"Luxury young urban\", \"budget_weight\": 0.0, \"safety_weight\": 0.1, \"youth_weight\": 0.6, \"centrality_weight\": 0.3},\n",
    "]\n",
    "\n",
    "for profile in test_profiles:\n",
    "    print(f\"\\nTop boroughs for {profile['label']}:\")\n",
    "    top = recommend_top_n_boroughs(\n",
    "        budget_weight=profile[\"budget_weight\"],\n",
    "        safety_weight=profile[\"safety_weight\"],\n",
    "        youth_weight=profile[\"youth_weight\"],\n",
    "        centrality_weight=profile[\"centrality_weight\"],\n",
    "        top_n=5\n",
    "    )\n",
    "    for rec in top:\n",
    "        print(f\"{rec['borough']:25s} | score={rec['score']:.4f} | rent={rec['norm_rent']:.2f} | safety={rec['norm_safety']:.2f} | youth={rec['norm_youth']:.2f} | centrality={rec['norm_centrality']:.2f}\")\n"
   ]
  },
  {
   "cell_type": "code",
   "execution_count": null,
   "id": "b6793477-65a2-4ab3-8b82-ce3f7540fa19",
   "metadata": {},
   "outputs": [],
   "source": []
  }
 ],
 "metadata": {
  "kernelspec": {
   "display_name": "Python (bayes_opt_env)",
   "language": "python",
   "name": "bayes_opt_env"
  },
  "language_info": {
   "codemirror_mode": {
    "name": "ipython",
    "version": 3
   },
   "file_extension": ".py",
   "mimetype": "text/x-python",
   "name": "python",
   "nbconvert_exporter": "python",
   "pygments_lexer": "ipython3",
   "version": "3.9.21"
  }
 },
 "nbformat": 4,
 "nbformat_minor": 5
}
